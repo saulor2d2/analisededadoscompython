{
 "cells": [
  {
   "cell_type": "code",
   "execution_count": 4,
   "id": "281a55c1",
   "metadata": {},
   "outputs": [
    {
     "data": {
      "text/plain": [
       "8"
      ]
     },
     "execution_count": 4,
     "metadata": {},
     "output_type": "execute_result"
    }
   ],
   "source": [
    "#soma\n",
    "4+4\n"
   ]
  },
  {
   "cell_type": "code",
   "execution_count": 5,
   "id": "c1fad974",
   "metadata": {},
   "outputs": [
    {
     "data": {
      "text/plain": [
       "5"
      ]
     },
     "execution_count": 5,
     "metadata": {},
     "output_type": "execute_result"
    }
   ],
   "source": [
    "#subtração\n",
    "9-4"
   ]
  },
  {
   "cell_type": "code",
   "execution_count": 6,
   "id": "c6b6e311",
   "metadata": {},
   "outputs": [
    {
     "data": {
      "text/plain": [
       "8"
      ]
     },
     "execution_count": 6,
     "metadata": {},
     "output_type": "execute_result"
    }
   ],
   "source": [
    "#Multiplicação\n",
    "4*2"
   ]
  },
  {
   "cell_type": "code",
   "execution_count": 8,
   "id": "bc5742be",
   "metadata": {},
   "outputs": [
    {
     "data": {
      "text/plain": [
       "2.0"
      ]
     },
     "execution_count": 8,
     "metadata": {},
     "output_type": "execute_result"
    }
   ],
   "source": [
    "#Divisão\n",
    "4/2"
   ]
  },
  {
   "cell_type": "code",
   "execution_count": 9,
   "id": "63682cd7",
   "metadata": {},
   "outputs": [
    {
     "data": {
      "text/plain": [
       "16"
      ]
     },
     "execution_count": 9,
     "metadata": {},
     "output_type": "execute_result"
    }
   ],
   "source": [
    "#Potenciação\n",
    "4**2"
   ]
  },
  {
   "cell_type": "code",
   "execution_count": 11,
   "id": "1d93c6e0",
   "metadata": {},
   "outputs": [
    {
     "data": {
      "text/plain": [
       "1"
      ]
     },
     "execution_count": 11,
     "metadata": {},
     "output_type": "execute_result"
    }
   ],
   "source": [
    "#Modulo\n",
    "25%2"
   ]
  },
  {
   "cell_type": "code",
   "execution_count": 6,
   "id": "b823884a",
   "metadata": {},
   "outputs": [
    {
     "data": {
      "text/plain": [
       "int"
      ]
     },
     "execution_count": 6,
     "metadata": {},
     "output_type": "execute_result"
    }
   ],
   "source": [
    "#Função Type\n",
    "type (5)\n"
   ]
  },
  {
   "cell_type": "code",
   "execution_count": 5,
   "id": "ef7a7c88",
   "metadata": {},
   "outputs": [
    {
     "data": {
      "text/plain": [
       "str"
      ]
     },
     "execution_count": 5,
     "metadata": {},
     "output_type": "execute_result"
    }
   ],
   "source": [
    "type ('a')"
   ]
  },
  {
   "cell_type": "code",
   "execution_count": 7,
   "id": "2337d1f5",
   "metadata": {},
   "outputs": [
    {
     "data": {
      "text/plain": [
       "6"
      ]
     },
     "execution_count": 7,
     "metadata": {},
     "output_type": "execute_result"
    }
   ],
   "source": [
    "#Convertendo para números inteiros\n",
    "int(6.0)"
   ]
  },
  {
   "cell_type": "code",
   "execution_count": 17,
   "id": "6a28dbc1",
   "metadata": {},
   "outputs": [
    {
     "data": {
      "text/plain": [
       "'0b11010100'"
      ]
     },
     "execution_count": 17,
     "metadata": {},
     "output_type": "execute_result"
    }
   ],
   "source": [
    "#hexadecimal e binários \n",
    "\n",
    "bin(212)"
   ]
  },
  {
   "cell_type": "code",
   "execution_count": 11,
   "id": "f1c5eb87",
   "metadata": {},
   "outputs": [
    {
     "data": {
      "text/plain": [
       "'0xe48'"
      ]
     },
     "execution_count": 11,
     "metadata": {},
     "output_type": "execute_result"
    }
   ],
   "source": [
    "hex(3656)"
   ]
  },
  {
   "cell_type": "code",
   "execution_count": 18,
   "id": "ac09c600",
   "metadata": {},
   "outputs": [
    {
     "data": {
      "text/plain": [
       "15231556"
      ]
     },
     "execution_count": 18,
     "metadata": {},
     "output_type": "execute_result"
    }
   ],
   "source": [
    "#arredonda\n",
    "round(15231556,15156)"
   ]
  },
  {
   "cell_type": "code",
   "execution_count": null,
   "id": "f0576301",
   "metadata": {},
   "outputs": [],
   "source": []
  }
 ],
 "metadata": {
  "kernelspec": {
   "display_name": "Python 3 (ipykernel)",
   "language": "python",
   "name": "python3"
  },
  "language_info": {
   "codemirror_mode": {
    "name": "ipython",
    "version": 3
   },
   "file_extension": ".py",
   "mimetype": "text/x-python",
   "name": "python",
   "nbconvert_exporter": "python",
   "pygments_lexer": "ipython3",
   "version": "3.9.7"
  }
 },
 "nbformat": 4,
 "nbformat_minor": 5
}
