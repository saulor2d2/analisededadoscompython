{
 "cells": [
  {
   "cell_type": "code",
   "execution_count": 1,
   "id": "c2104b13",
   "metadata": {},
   "outputs": [
    {
     "name": "stdout",
     "output_type": "stream",
     "text": [
      "10\n"
     ]
    }
   ],
   "source": [
    "#váriaveis\n",
    "b = 10\n",
    "print(b)"
   ]
  },
  {
   "cell_type": "code",
   "execution_count": 2,
   "id": "bd8805ba",
   "metadata": {},
   "outputs": [],
   "source": [
    "var_teste = 5.2"
   ]
  },
  {
   "cell_type": "code",
   "execution_count": 3,
   "id": "c0feaf3a",
   "metadata": {},
   "outputs": [
    {
     "data": {
      "text/plain": [
       "float"
      ]
     },
     "execution_count": 3,
     "metadata": {},
     "output_type": "execute_result"
    }
   ],
   "source": [
    "type(var_teste)"
   ]
  },
  {
   "cell_type": "code",
   "execution_count": 4,
   "id": "0cd33871",
   "metadata": {},
   "outputs": [
    {
     "data": {
      "text/plain": [
       "5"
      ]
     },
     "execution_count": 4,
     "metadata": {},
     "output_type": "execute_result"
    }
   ],
   "source": [
    "int(var_teste)"
   ]
  },
  {
   "cell_type": "code",
   "execution_count": 5,
   "id": "c58b2013",
   "metadata": {},
   "outputs": [
    {
     "data": {
      "text/plain": [
       "float"
      ]
     },
     "execution_count": 5,
     "metadata": {},
     "output_type": "execute_result"
    }
   ],
   "source": [
    "type(var_teste)"
   ]
  },
  {
   "cell_type": "code",
   "execution_count": 6,
   "id": "c05d26f0",
   "metadata": {},
   "outputs": [],
   "source": [
    "pessoa1,pessoa2,pessoa3 = \"Saulo\", \"Marileide\" , \"Maria\""
   ]
  },
  {
   "cell_type": "code",
   "execution_count": 30,
   "id": "ff4ec740",
   "metadata": {},
   "outputs": [
    {
     "data": {
      "text/plain": [
       "'Maria'"
      ]
     },
     "execution_count": 30,
     "metadata": {},
     "output_type": "execute_result"
    }
   ],
   "source": [
    "pessoa3"
   ]
  },
  {
   "cell_type": "code",
   "execution_count": 5,
   "id": "72e9bab6",
   "metadata": {},
   "outputs": [],
   "source": [
    "largura = 2"
   ]
  },
  {
   "cell_type": "code",
   "execution_count": 6,
   "id": "b688ba6a",
   "metadata": {},
   "outputs": [],
   "source": [
    "altura = 3"
   ]
  },
  {
   "cell_type": "code",
   "execution_count": 12,
   "id": "818cffac",
   "metadata": {},
   "outputs": [],
   "source": [
    "area = largura * altura"
   ]
  },
  {
   "cell_type": "code",
   "execution_count": 11,
   "id": "82150158",
   "metadata": {},
   "outputs": [
    {
     "data": {
      "text/plain": [
       "6"
      ]
     },
     "execution_count": 11,
     "metadata": {},
     "output_type": "execute_result"
    }
   ],
   "source": [
    "area\n"
   ]
  },
  {
   "cell_type": "code",
   "execution_count": 13,
   "id": "718632c4",
   "metadata": {},
   "outputs": [],
   "source": [
    "nome = \"Saulo\""
   ]
  },
  {
   "cell_type": "code",
   "execution_count": 14,
   "id": "04959bb4",
   "metadata": {},
   "outputs": [],
   "source": [
    "sobrenome = \"carvalho\""
   ]
  },
  {
   "cell_type": "code",
   "execution_count": 22,
   "id": "97d821df",
   "metadata": {},
   "outputs": [],
   "source": [
    "fullname = nome + \" \" + sobrenome"
   ]
  },
  {
   "cell_type": "code",
   "execution_count": 23,
   "id": "40c74c54",
   "metadata": {},
   "outputs": [
    {
     "data": {
      "text/plain": [
       "'Saulo carvalhor'"
      ]
     },
     "execution_count": 23,
     "metadata": {},
     "output_type": "execute_result"
    }
   ],
   "source": [
    "fullname"
   ]
  },
  {
   "cell_type": "code",
   "execution_count": null,
   "id": "e292690f",
   "metadata": {},
   "outputs": [],
   "source": []
  }
 ],
 "metadata": {
  "kernelspec": {
   "display_name": "Python 3 (ipykernel)",
   "language": "python",
   "name": "python3"
  },
  "language_info": {
   "codemirror_mode": {
    "name": "ipython",
    "version": 3
   },
   "file_extension": ".py",
   "mimetype": "text/x-python",
   "name": "python",
   "nbconvert_exporter": "python",
   "pygments_lexer": "ipython3",
   "version": "3.9.7"
  }
 },
 "nbformat": 4,
 "nbformat_minor": 5
}
